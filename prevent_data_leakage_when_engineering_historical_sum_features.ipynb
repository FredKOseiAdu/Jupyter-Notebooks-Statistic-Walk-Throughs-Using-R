{
 "cells": [
  {
   "cell_type": "markdown",
   "metadata": {},
   "source": [
    "# How to Prevent Data Leakage when Engineering Historical Sum and Rate Features for Predictive Modeling\n",
    "By James Marquez, May 13, 2017\n",
    "\n",
    "Data leakage is a problem that occurs when the training data used to train the algorithm includes information from the outcome variable. This can lead to overly optimistic results when testing the model and poor performance in real-world applications. The authors of the \"[Handbook of Statistical Analysis and Data Mining Application](https://books.google.com/books?hl=en&lr=&id=U5np34a5fmQC&oi=fnd&pg=PP1&dq=Handbook+of+Statistical+Analysis+and+Data+Mining+Application&ots=Sq6ZKStiHS&sig=IOW3RLuy5NWKKSxEQhZfHBc_KmI#v=onepage&q=Handbook%20of%20Statistical%20Analysis%20and%20Data%20Mining%20Application&f=false)\" say that data leakage is one of the top ten machine learning mistakes.\n",
    "\n",
    "\n",
    "A popular [Kaggle article](https://www.kaggle.com/wiki/Leakage) explains common causes of data leakage as:\n",
    "\n",
    "- Leaking the correct prediction or ground truth into the test data.\n",
    "- Leaking of information from the future into the past.\n",
    "- Leaking test data into the training data.\n",
    "- Retaining proxies for removed variables a model is restricted from knowing.\n",
    "- Reversing of intentional obfuscation, randomization or anonymization.\n",
    "- Inclusion of data not present in the model's operational environment.\n",
    "- Distorting information from samples outside of scope of the model's intended use.\n",
    "- Any of the above present in third party data joined to the training set.\n",
    "\n",
    "The problem we will be using in our example is common in every medical clinic. We'll be predicting patients that are not going to show up for their appointment. We'll be creating two features; each patient's historical no-show rate in a one-year range and the sum of their appointments in a one-year range. There are three issues that can cause data leakage when creating our features:\n",
    "1. Using the \"no-show\" response variable to create our no-show rate feature should not include the current observation. Doing so would include the ground truth into the training set.\n",
    "2. Current and future observations should not be included in the sums or rate. For example, assigning the sum of each patient's appointments to all observations of the same patient. Doing so would include future information into the training set that would not be available during prediction time.\n",
    "\n",
    "A third issue is the need to use the same date range for all patients. Some patients may not have as much medical history as others. One patient's no-show rate might be calculated from two years of appointment history while another's will be from one year of history. We must constrain our historical sums and rates to the same range for every patient to allow the algorithm to generalize to new unseen patients."
   ]
  },
  {
   "cell_type": "markdown",
   "metadata": {},
   "source": [
    "## Creating Our Dataset\n",
    "We're going to use three packages in our example; <span class=\"ic\">data.table</span>, <span class=\"ic\">xts</span>, and <span class=\"ic\">zoo</span>. We'll generate random dates and <span class=\"ic\">0</span>,<span class=\"ic\">1</span> values for our <span class=\"ic\">Noshow</span> label. We're going to use the data.table package to calculate our sums for each patient. Also, we're going to use the <span class=\"ic\">make.index.unique</span> function from the xts package to make our dates unique if there are duplicates. It will increment duplicate dates by one second. This is important because the <span class=\"ic\">zoo</span> function requires our dates to be unique."
   ]
  },
  {
   "cell_type": "code",
   "execution_count": 281,
   "metadata": {},
   "outputs": [],
   "source": [
    "library(data.table) \n",
    "library(xts) # Required for the make.index.unique function\n",
    "\n",
    "# Create our features\n",
    "PatientID <- c(rep(\"Pt_1\", 6), rep(\"Pt_2\", 10))\n",
    "Date <- make.index.unique(as.POSIXct(sample(seq(as.Date('2015-01-01'), as.Date('2017-01-01'), by=\"day\"), 16)))\n",
    "Apt <- rep(1, 16)\n",
    "\n",
    "# Create our label\n",
    "Noshow <- sample(c(0, 1), 16, replace=TRUE)\n",
    "\n",
    "# Create data table\n",
    "train <- data.table(PatientID, Date, Noshow, Apt)\n",
    "\n",
    "# Ensure your dates are ordered if they are not\n",
    "train <- train[order(PatientID, Date), ]"
   ]
  },
  {
   "cell_type": "markdown",
   "metadata": {},
   "source": [
    "## Creating Our rollSum Function\n",
    "This function will sum a variable within a givin date range. The original function was created by [G. Grothendieck](http://stackoverflow.com/users/516548/g-grothendieck) in the StackOverflow article [Compute rolling sum by id variables, with missing timepoints](http://stackoverflow.com/questions/16840101/compute-rolling-sum-by-id-variables-with-missing-timepoints). I modified it to accept arguments for any dataset, and also changed it to days instead of years."
   ]
  },
  {
   "cell_type": "code",
   "execution_count": 282,
   "metadata": {
    "collapsed": true
   },
   "outputs": [],
   "source": [
    "library(zoo) # Required to make a zoo object\n",
    "\n",
    "rollSum <- function(i, data, count, dates) {\n",
    "             z <- with(data[i, ], zoo(count, dates))\n",
    "             g <- zoo(, seq(start(z), end(z), by=\"day\"))\n",
    "             m <- merge(z, g)\n",
    "             window(rollapplyr(m, 365, sum, na.rm=TRUE, partial=TRUE), time(z))\n",
    "}"
   ]
  },
  {
   "cell_type": "markdown",
   "metadata": {},
   "source": [
    "## Creating NoshowSum and AptSum Features\n",
    "We're going to use our <span class=\"ic\">rollSum</span> function to sum no-shows and appointments for each patient within 365 days of the respective observation. We're calling <span class=\"ic\">as.numeric</span> around <span class=\"ic\">rollSum</span> because it returns a <span class=\"ic\">zoo</span> object, which causes an error when we divide them to create our <span class=\"ic\">NoshowRate</span>. Finally, we subtract the original feature from the sum to remove the current observation."
   ]
  },
  {
   "cell_type": "code",
   "execution_count": 283,
   "metadata": {},
   "outputs": [
    {
     "data": {},
     "metadata": {},
     "output_type": "display_data"
    },
    {
     "data": {},
     "metadata": {},
     "output_type": "display_data"
    },
    {
     "data": {
      "text/html": [
       "<table>\n",
       "<thead><tr><th scope=col>PatientID</th><th scope=col>Date</th><th scope=col>Noshow</th><th scope=col>Apt</th><th scope=col>NoshowSum</th><th scope=col>AptSum</th></tr></thead>\n",
       "<tbody>\n",
       "\t<tr><td>Pt_1               </td><td>2015-05-06 20:00:00</td><td>0                  </td><td>1                  </td><td>0                  </td><td>0                  </td></tr>\n",
       "\t<tr><td>Pt_1               </td><td>2015-07-24 20:00:00</td><td>1                  </td><td>1                  </td><td>0                  </td><td>1                  </td></tr>\n",
       "\t<tr><td>Pt_1               </td><td>2015-09-11 20:00:00</td><td>1                  </td><td>1                  </td><td>1                  </td><td>2                  </td></tr>\n",
       "\t<tr><td>Pt_1               </td><td>2015-12-22 19:00:00</td><td>1                  </td><td>1                  </td><td>2                  </td><td>3                  </td></tr>\n",
       "\t<tr><td>Pt_1               </td><td>2015-12-31 19:00:00</td><td>1                  </td><td>1                  </td><td>3                  </td><td>4                  </td></tr>\n",
       "\t<tr><td>Pt_1               </td><td>2016-11-18 19:00:00</td><td>1                  </td><td>1                  </td><td>2                  </td><td>2                  </td></tr>\n",
       "\t<tr><td>Pt_2               </td><td>2015-02-06 19:00:00</td><td>1                  </td><td>1                  </td><td>0                  </td><td>0                  </td></tr>\n",
       "\t<tr><td>Pt_2               </td><td>2015-07-09 20:00:00</td><td>0                  </td><td>1                  </td><td>1                  </td><td>1                  </td></tr>\n",
       "\t<tr><td>Pt_2               </td><td>2015-08-01 20:00:00</td><td>0                  </td><td>1                  </td><td>1                  </td><td>2                  </td></tr>\n",
       "\t<tr><td>Pt_2               </td><td>2015-08-30 20:00:00</td><td>0                  </td><td>1                  </td><td>1                  </td><td>3                  </td></tr>\n",
       "\t<tr><td>Pt_2               </td><td>2016-01-29 19:00:00</td><td>1                  </td><td>1                  </td><td>1                  </td><td>4                  </td></tr>\n",
       "\t<tr><td>Pt_2               </td><td>2016-03-03 19:00:00</td><td>0                  </td><td>1                  </td><td>1                  </td><td>4                  </td></tr>\n",
       "\t<tr><td>Pt_2               </td><td>2016-05-13 20:00:00</td><td>0                  </td><td>1                  </td><td>1                  </td><td>5                  </td></tr>\n",
       "\t<tr><td>Pt_2               </td><td>2016-09-03 20:00:00</td><td>1                  </td><td>1                  </td><td>1                  </td><td>3                  </td></tr>\n",
       "\t<tr><td>Pt_2               </td><td>2016-12-17 19:00:00</td><td>1                  </td><td>1                  </td><td>2                  </td><td>4                  </td></tr>\n",
       "\t<tr><td>Pt_2               </td><td>2016-12-29 19:00:00</td><td>1                  </td><td>1                  </td><td>3                  </td><td>5                  </td></tr>\n",
       "</tbody>\n",
       "</table>\n"
      ],
      "text/latex": [
       "\\begin{tabular}{r|llllll}\n",
       " PatientID & Date & Noshow & Apt & NoshowSum & AptSum\\\\\n",
       "\\hline\n",
       "\t Pt\\_1              & 2015-05-06 20:00:00 & 0                   & 1                   & 0                   & 0                  \\\\\n",
       "\t Pt\\_1              & 2015-07-24 20:00:00 & 1                   & 1                   & 0                   & 1                  \\\\\n",
       "\t Pt\\_1              & 2015-09-11 20:00:00 & 1                   & 1                   & 1                   & 2                  \\\\\n",
       "\t Pt\\_1              & 2015-12-22 19:00:00 & 1                   & 1                   & 2                   & 3                  \\\\\n",
       "\t Pt\\_1              & 2015-12-31 19:00:00 & 1                   & 1                   & 3                   & 4                  \\\\\n",
       "\t Pt\\_1              & 2016-11-18 19:00:00 & 1                   & 1                   & 2                   & 2                  \\\\\n",
       "\t Pt\\_2              & 2015-02-06 19:00:00 & 1                   & 1                   & 0                   & 0                  \\\\\n",
       "\t Pt\\_2              & 2015-07-09 20:00:00 & 0                   & 1                   & 1                   & 1                  \\\\\n",
       "\t Pt\\_2              & 2015-08-01 20:00:00 & 0                   & 1                   & 1                   & 2                  \\\\\n",
       "\t Pt\\_2              & 2015-08-30 20:00:00 & 0                   & 1                   & 1                   & 3                  \\\\\n",
       "\t Pt\\_2              & 2016-01-29 19:00:00 & 1                   & 1                   & 1                   & 4                  \\\\\n",
       "\t Pt\\_2              & 2016-03-03 19:00:00 & 0                   & 1                   & 1                   & 4                  \\\\\n",
       "\t Pt\\_2              & 2016-05-13 20:00:00 & 0                   & 1                   & 1                   & 5                  \\\\\n",
       "\t Pt\\_2              & 2016-09-03 20:00:00 & 1                   & 1                   & 1                   & 3                  \\\\\n",
       "\t Pt\\_2              & 2016-12-17 19:00:00 & 1                   & 1                   & 2                   & 4                  \\\\\n",
       "\t Pt\\_2              & 2016-12-29 19:00:00 & 1                   & 1                   & 3                   & 5                  \\\\\n",
       "\\end{tabular}\n"
      ],
      "text/markdown": [
       "\n",
       "PatientID | Date | Noshow | Apt | NoshowSum | AptSum | \n",
       "|---|---|---|---|---|---|---|---|---|---|---|---|---|---|---|---|\n",
       "| Pt_1                | 2015-05-06 20:00:00 | 0                   | 1                   | 0                   | 0                   | \n",
       "| Pt_1                | 2015-07-24 20:00:00 | 1                   | 1                   | 0                   | 1                   | \n",
       "| Pt_1                | 2015-09-11 20:00:00 | 1                   | 1                   | 1                   | 2                   | \n",
       "| Pt_1                | 2015-12-22 19:00:00 | 1                   | 1                   | 2                   | 3                   | \n",
       "| Pt_1                | 2015-12-31 19:00:00 | 1                   | 1                   | 3                   | 4                   | \n",
       "| Pt_1                | 2016-11-18 19:00:00 | 1                   | 1                   | 2                   | 2                   | \n",
       "| Pt_2                | 2015-02-06 19:00:00 | 1                   | 1                   | 0                   | 0                   | \n",
       "| Pt_2                | 2015-07-09 20:00:00 | 0                   | 1                   | 1                   | 1                   | \n",
       "| Pt_2                | 2015-08-01 20:00:00 | 0                   | 1                   | 1                   | 2                   | \n",
       "| Pt_2                | 2015-08-30 20:00:00 | 0                   | 1                   | 1                   | 3                   | \n",
       "| Pt_2                | 2016-01-29 19:00:00 | 1                   | 1                   | 1                   | 4                   | \n",
       "| Pt_2                | 2016-03-03 19:00:00 | 0                   | 1                   | 1                   | 4                   | \n",
       "| Pt_2                | 2016-05-13 20:00:00 | 0                   | 1                   | 1                   | 5                   | \n",
       "| Pt_2                | 2016-09-03 20:00:00 | 1                   | 1                   | 1                   | 3                   | \n",
       "| Pt_2                | 2016-12-17 19:00:00 | 1                   | 1                   | 2                   | 4                   | \n",
       "| Pt_2                | 2016-12-29 19:00:00 | 1                   | 1                   | 3                   | 5                   | \n",
       "\n",
       "\n"
      ],
      "text/plain": [
       "   PatientID Date                Noshow Apt NoshowSum AptSum\n",
       "1  Pt_1      2015-05-06 20:00:00 0      1   0         0     \n",
       "2  Pt_1      2015-07-24 20:00:00 1      1   0         1     \n",
       "3  Pt_1      2015-09-11 20:00:00 1      1   1         2     \n",
       "4  Pt_1      2015-12-22 19:00:00 1      1   2         3     \n",
       "5  Pt_1      2015-12-31 19:00:00 1      1   3         4     \n",
       "6  Pt_1      2016-11-18 19:00:00 1      1   2         2     \n",
       "7  Pt_2      2015-02-06 19:00:00 1      1   0         0     \n",
       "8  Pt_2      2015-07-09 20:00:00 0      1   1         1     \n",
       "9  Pt_2      2015-08-01 20:00:00 0      1   1         2     \n",
       "10 Pt_2      2015-08-30 20:00:00 0      1   1         3     \n",
       "11 Pt_2      2016-01-29 19:00:00 1      1   1         4     \n",
       "12 Pt_2      2016-03-03 19:00:00 0      1   1         4     \n",
       "13 Pt_2      2016-05-13 20:00:00 0      1   1         5     \n",
       "14 Pt_2      2016-09-03 20:00:00 1      1   1         3     \n",
       "15 Pt_2      2016-12-17 19:00:00 1      1   2         4     \n",
       "16 Pt_2      2016-12-29 19:00:00 1      1   3         5     "
      ]
     },
     "metadata": {},
     "output_type": "display_data"
    }
   ],
   "source": [
    "train[, NoshowSum := as.numeric(rollSum(data=train, count=Noshow, dates=Date) - Noshow), by=PatientID]\n",
    "train[, AptSum := as.numeric(rollSum(data=train, count=Apt, dates=Date) - Apt), by=PatientID]\n",
    "train"
   ]
  },
  {
   "cell_type": "markdown",
   "metadata": {},
   "source": [
    "Lastly, we divide our <span class=\"ic\">NoshowSum</span> by the <span class=\"ic\">AptSum</span> to get our <span class=\"ic\">NoshowRate</span>. Then we assign <span class=\"ic\">0</span> to all <span class=\"ic\">NaN</span> values that result from dividing <span class=\"ic\">0 / 0</span>."
   ]
  },
  {
   "cell_type": "code",
   "execution_count": 284,
   "metadata": {},
   "outputs": [
    {
     "data": {
      "text/html": [
       "<table>\n",
       "<thead><tr><th scope=col>PatientID</th><th scope=col>Date</th><th scope=col>Noshow</th><th scope=col>Apt</th><th scope=col>NoshowSum</th><th scope=col>AptSum</th><th scope=col>NoshowRate</th></tr></thead>\n",
       "<tbody>\n",
       "\t<tr><td>Pt_1               </td><td>2015-05-06 20:00:00</td><td>0                  </td><td>1                  </td><td>0                  </td><td>0                  </td><td>0.0000000          </td></tr>\n",
       "\t<tr><td>Pt_1               </td><td>2015-07-24 20:00:00</td><td>1                  </td><td>1                  </td><td>0                  </td><td>1                  </td><td>0.0000000          </td></tr>\n",
       "\t<tr><td>Pt_1               </td><td>2015-09-11 20:00:00</td><td>1                  </td><td>1                  </td><td>1                  </td><td>2                  </td><td>0.5000000          </td></tr>\n",
       "\t<tr><td>Pt_1               </td><td>2015-12-22 19:00:00</td><td>1                  </td><td>1                  </td><td>2                  </td><td>3                  </td><td>0.6666667          </td></tr>\n",
       "\t<tr><td>Pt_1               </td><td>2015-12-31 19:00:00</td><td>1                  </td><td>1                  </td><td>3                  </td><td>4                  </td><td>0.7500000          </td></tr>\n",
       "\t<tr><td>Pt_1               </td><td>2016-11-18 19:00:00</td><td>1                  </td><td>1                  </td><td>2                  </td><td>2                  </td><td>1.0000000          </td></tr>\n",
       "\t<tr><td>Pt_2               </td><td>2015-02-06 19:00:00</td><td>1                  </td><td>1                  </td><td>0                  </td><td>0                  </td><td>0.0000000          </td></tr>\n",
       "\t<tr><td>Pt_2               </td><td>2015-07-09 20:00:00</td><td>0                  </td><td>1                  </td><td>1                  </td><td>1                  </td><td>1.0000000          </td></tr>\n",
       "\t<tr><td>Pt_2               </td><td>2015-08-01 20:00:00</td><td>0                  </td><td>1                  </td><td>1                  </td><td>2                  </td><td>0.5000000          </td></tr>\n",
       "\t<tr><td>Pt_2               </td><td>2015-08-30 20:00:00</td><td>0                  </td><td>1                  </td><td>1                  </td><td>3                  </td><td>0.3333333          </td></tr>\n",
       "\t<tr><td>Pt_2               </td><td>2016-01-29 19:00:00</td><td>1                  </td><td>1                  </td><td>1                  </td><td>4                  </td><td>0.2500000          </td></tr>\n",
       "\t<tr><td>Pt_2               </td><td>2016-03-03 19:00:00</td><td>0                  </td><td>1                  </td><td>1                  </td><td>4                  </td><td>0.2500000          </td></tr>\n",
       "\t<tr><td>Pt_2               </td><td>2016-05-13 20:00:00</td><td>0                  </td><td>1                  </td><td>1                  </td><td>5                  </td><td>0.2000000          </td></tr>\n",
       "\t<tr><td>Pt_2               </td><td>2016-09-03 20:00:00</td><td>1                  </td><td>1                  </td><td>1                  </td><td>3                  </td><td>0.3333333          </td></tr>\n",
       "\t<tr><td>Pt_2               </td><td>2016-12-17 19:00:00</td><td>1                  </td><td>1                  </td><td>2                  </td><td>4                  </td><td>0.5000000          </td></tr>\n",
       "\t<tr><td>Pt_2               </td><td>2016-12-29 19:00:00</td><td>1                  </td><td>1                  </td><td>3                  </td><td>5                  </td><td>0.6000000          </td></tr>\n",
       "</tbody>\n",
       "</table>\n"
      ],
      "text/latex": [
       "\\begin{tabular}{r|lllllll}\n",
       " PatientID & Date & Noshow & Apt & NoshowSum & AptSum & NoshowRate\\\\\n",
       "\\hline\n",
       "\t Pt\\_1              & 2015-05-06 20:00:00 & 0                   & 1                   & 0                   & 0                   & 0.0000000          \\\\\n",
       "\t Pt\\_1              & 2015-07-24 20:00:00 & 1                   & 1                   & 0                   & 1                   & 0.0000000          \\\\\n",
       "\t Pt\\_1              & 2015-09-11 20:00:00 & 1                   & 1                   & 1                   & 2                   & 0.5000000          \\\\\n",
       "\t Pt\\_1              & 2015-12-22 19:00:00 & 1                   & 1                   & 2                   & 3                   & 0.6666667          \\\\\n",
       "\t Pt\\_1              & 2015-12-31 19:00:00 & 1                   & 1                   & 3                   & 4                   & 0.7500000          \\\\\n",
       "\t Pt\\_1              & 2016-11-18 19:00:00 & 1                   & 1                   & 2                   & 2                   & 1.0000000          \\\\\n",
       "\t Pt\\_2              & 2015-02-06 19:00:00 & 1                   & 1                   & 0                   & 0                   & 0.0000000          \\\\\n",
       "\t Pt\\_2              & 2015-07-09 20:00:00 & 0                   & 1                   & 1                   & 1                   & 1.0000000          \\\\\n",
       "\t Pt\\_2              & 2015-08-01 20:00:00 & 0                   & 1                   & 1                   & 2                   & 0.5000000          \\\\\n",
       "\t Pt\\_2              & 2015-08-30 20:00:00 & 0                   & 1                   & 1                   & 3                   & 0.3333333          \\\\\n",
       "\t Pt\\_2              & 2016-01-29 19:00:00 & 1                   & 1                   & 1                   & 4                   & 0.2500000          \\\\\n",
       "\t Pt\\_2              & 2016-03-03 19:00:00 & 0                   & 1                   & 1                   & 4                   & 0.2500000          \\\\\n",
       "\t Pt\\_2              & 2016-05-13 20:00:00 & 0                   & 1                   & 1                   & 5                   & 0.2000000          \\\\\n",
       "\t Pt\\_2              & 2016-09-03 20:00:00 & 1                   & 1                   & 1                   & 3                   & 0.3333333          \\\\\n",
       "\t Pt\\_2              & 2016-12-17 19:00:00 & 1                   & 1                   & 2                   & 4                   & 0.5000000          \\\\\n",
       "\t Pt\\_2              & 2016-12-29 19:00:00 & 1                   & 1                   & 3                   & 5                   & 0.6000000          \\\\\n",
       "\\end{tabular}\n"
      ],
      "text/markdown": [
       "\n",
       "PatientID | Date | Noshow | Apt | NoshowSum | AptSum | NoshowRate | \n",
       "|---|---|---|---|---|---|---|---|---|---|---|---|---|---|---|---|\n",
       "| Pt_1                | 2015-05-06 20:00:00 | 0                   | 1                   | 0                   | 0                   | 0.0000000           | \n",
       "| Pt_1                | 2015-07-24 20:00:00 | 1                   | 1                   | 0                   | 1                   | 0.0000000           | \n",
       "| Pt_1                | 2015-09-11 20:00:00 | 1                   | 1                   | 1                   | 2                   | 0.5000000           | \n",
       "| Pt_1                | 2015-12-22 19:00:00 | 1                   | 1                   | 2                   | 3                   | 0.6666667           | \n",
       "| Pt_1                | 2015-12-31 19:00:00 | 1                   | 1                   | 3                   | 4                   | 0.7500000           | \n",
       "| Pt_1                | 2016-11-18 19:00:00 | 1                   | 1                   | 2                   | 2                   | 1.0000000           | \n",
       "| Pt_2                | 2015-02-06 19:00:00 | 1                   | 1                   | 0                   | 0                   | 0.0000000           | \n",
       "| Pt_2                | 2015-07-09 20:00:00 | 0                   | 1                   | 1                   | 1                   | 1.0000000           | \n",
       "| Pt_2                | 2015-08-01 20:00:00 | 0                   | 1                   | 1                   | 2                   | 0.5000000           | \n",
       "| Pt_2                | 2015-08-30 20:00:00 | 0                   | 1                   | 1                   | 3                   | 0.3333333           | \n",
       "| Pt_2                | 2016-01-29 19:00:00 | 1                   | 1                   | 1                   | 4                   | 0.2500000           | \n",
       "| Pt_2                | 2016-03-03 19:00:00 | 0                   | 1                   | 1                   | 4                   | 0.2500000           | \n",
       "| Pt_2                | 2016-05-13 20:00:00 | 0                   | 1                   | 1                   | 5                   | 0.2000000           | \n",
       "| Pt_2                | 2016-09-03 20:00:00 | 1                   | 1                   | 1                   | 3                   | 0.3333333           | \n",
       "| Pt_2                | 2016-12-17 19:00:00 | 1                   | 1                   | 2                   | 4                   | 0.5000000           | \n",
       "| Pt_2                | 2016-12-29 19:00:00 | 1                   | 1                   | 3                   | 5                   | 0.6000000           | \n",
       "\n",
       "\n"
      ],
      "text/plain": [
       "   PatientID Date                Noshow Apt NoshowSum AptSum NoshowRate\n",
       "1  Pt_1      2015-05-06 20:00:00 0      1   0         0      0.0000000 \n",
       "2  Pt_1      2015-07-24 20:00:00 1      1   0         1      0.0000000 \n",
       "3  Pt_1      2015-09-11 20:00:00 1      1   1         2      0.5000000 \n",
       "4  Pt_1      2015-12-22 19:00:00 1      1   2         3      0.6666667 \n",
       "5  Pt_1      2015-12-31 19:00:00 1      1   3         4      0.7500000 \n",
       "6  Pt_1      2016-11-18 19:00:00 1      1   2         2      1.0000000 \n",
       "7  Pt_2      2015-02-06 19:00:00 1      1   0         0      0.0000000 \n",
       "8  Pt_2      2015-07-09 20:00:00 0      1   1         1      1.0000000 \n",
       "9  Pt_2      2015-08-01 20:00:00 0      1   1         2      0.5000000 \n",
       "10 Pt_2      2015-08-30 20:00:00 0      1   1         3      0.3333333 \n",
       "11 Pt_2      2016-01-29 19:00:00 1      1   1         4      0.2500000 \n",
       "12 Pt_2      2016-03-03 19:00:00 0      1   1         4      0.2500000 \n",
       "13 Pt_2      2016-05-13 20:00:00 0      1   1         5      0.2000000 \n",
       "14 Pt_2      2016-09-03 20:00:00 1      1   1         3      0.3333333 \n",
       "15 Pt_2      2016-12-17 19:00:00 1      1   2         4      0.5000000 \n",
       "16 Pt_2      2016-12-29 19:00:00 1      1   3         5      0.6000000 "
      ]
     },
     "metadata": {},
     "output_type": "display_data"
    }
   ],
   "source": [
    "train$NoshowRate <- train$NoshowSum / train$AptSum\n",
    "train$NoshowRate[is.nan(train$NoshowRate)] <- 0\n",
    "train"
   ]
  },
  {
   "cell_type": "markdown",
   "metadata": {},
   "source": [
    "That's it. Please leave a comment if you have any questions or suggestions. You can grab the notebook from my GitHub here [prevent_data_leakage_when_engineering_historical_sum_features.ipynb](https://github.com/JamesMarquezDev/Jupyter-Notebooks-Statistic-Walk-Throughs-Using-R/blob/master/prevent_data_leakage_when_engineering_historical_sum_features.ipynb). Thanks for reading!"
   ]
  }
 ],
 "metadata": {
  "kernelspec": {
   "display_name": "R",
   "language": "R",
   "name": "ir"
  },
  "language_info": {
   "codemirror_mode": "r",
   "file_extension": ".r",
   "mimetype": "text/x-r-source",
   "name": "R",
   "pygments_lexer": "r",
   "version": "3.3.3"
  }
 },
 "nbformat": 4,
 "nbformat_minor": 2
}
